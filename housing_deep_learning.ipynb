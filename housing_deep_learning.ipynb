{
  "nbformat": 4,
  "nbformat_minor": 0,
  "metadata": {
    "kernelspec": {
      "display_name": "tf",
      "language": "python",
      "name": "tf"
    },
    "language_info": {
      "codemirror_mode": {
        "name": "ipython",
        "version": 3
      },
      "file_extension": ".py",
      "mimetype": "text/x-python",
      "name": "python",
      "nbconvert_exporter": "python",
      "pygments_lexer": "ipython3",
      "version": "3.7.11"
    },
    "colab": {
      "name": "housing-deep-learning.ipynb",
      "provenance": [],
      "collapsed_sections": [
        "KYN2YOq7oJBj",
        "kBE3ZGRDoJBm",
        "oVCeGitxoJBm"
      ],
      "include_colab_link": true
    }
  },
  "cells": [
    {
      "cell_type": "markdown",
      "metadata": {
        "id": "view-in-github",
        "colab_type": "text"
      },
      "source": [
        "<a href=\"https://colab.research.google.com/github/davidzillion/Predicting_Housing_Prices/blob/main/housing_deep_learning.ipynb\" target=\"_parent\"><img src=\"https://colab.research.google.com/assets/colab-badge.svg\" alt=\"Open In Colab\"/></a>"
      ]
    },
    {
      "cell_type": "markdown",
      "metadata": {
        "id": "L57P5ni0oI-r"
      },
      "source": [
        "# Predicting Housing Prices"
      ]
    },
    {
      "cell_type": "markdown",
      "metadata": {
        "id": "d2poAXj2oJA-"
      },
      "source": [
        "We will only use numerical features"
      ]
    },
    {
      "cell_type": "code",
      "metadata": {
        "colab": {
          "base_uri": "https://localhost:8080/"
        },
        "id": "kkDnimmSp73h",
        "outputId": "8cbdf715-a176-42a3-962e-795a25a95ea3"
      },
      "source": [
        "from google.colab import drive\n",
        "drive.mount('/content/drive')"
      ],
      "execution_count": null,
      "outputs": [
        {
          "output_type": "stream",
          "name": "stdout",
          "text": [
            "Drive already mounted at /content/drive; to attempt to forcibly remount, call drive.mount(\"/content/drive\", force_remount=True).\n"
          ]
        }
      ]
    },
    {
      "cell_type": "code",
      "metadata": {
        "id": "Xu1j1jrRoJBB"
      },
      "source": [
        "import pandas as pd\n",
        "import numpy as np \n",
        "\n",
        "file_path_housing ='/content/drive/My Drive/Data/housing_prices_iteration3.csv'\n",
        "housing = pd.read_csv(file_path_housing)\n",
        "housing = housing.select_dtypes(include=['number']).copy()\n",
        "housing.drop(columns=[\"Id\"], inplace=True)"
      ],
      "execution_count": null,
      "outputs": []
    },
    {
      "cell_type": "code",
      "metadata": {
        "colab": {
          "base_uri": "https://localhost:8080/"
        },
        "id": "ZPBJCd-OoJBI",
        "outputId": "c44b6641-15f3-4239-a1c2-b426467c878c"
      },
      "source": [
        "housing.shape"
      ],
      "execution_count": null,
      "outputs": [
        {
          "output_type": "execute_result",
          "data": {
            "text/plain": [
              "(1460, 37)"
            ]
          },
          "metadata": {},
          "execution_count": 3
        }
      ]
    },
    {
      "cell_type": "markdown",
      "metadata": {
        "id": "EPglt0buoJBJ"
      },
      "source": [
        "## Data splitting"
      ]
    },
    {
      "cell_type": "code",
      "metadata": {
        "id": "Qn5GZmMhoJBK"
      },
      "source": [
        "from sklearn.model_selection import train_test_split\n",
        "\n",
        "# define X and y (features and target)\n",
        "X = housing.drop(columns=\"SalePrice\")\n",
        "y = housing[\"SalePrice\"]\n",
        "\n",
        "X_train, X_test, y_train, y_test = train_test_split(X, y, test_size=0.2, random_state=8)\n"
      ],
      "execution_count": null,
      "outputs": []
    },
    {
      "cell_type": "markdown",
      "metadata": {
        "id": "XHcN9l9koJBT"
      },
      "source": [
        "## Data Scaling"
      ]
    },
    {
      "cell_type": "code",
      "metadata": {
        "id": "i3AZzQltoJBY"
      },
      "source": [
        "from sklearn.preprocessing import MinMaxScaler\n",
        "minmax = MinMaxScaler()\n",
        "X_train_ = minmax.fit_transform(X_train)"
      ],
      "execution_count": null,
      "outputs": []
    },
    {
      "cell_type": "code",
      "metadata": {
        "id": "FNEjSGROoJBZ"
      },
      "source": [
        "X_train_scaled = pd.DataFrame(X_train_, columns=X.columns)"
      ],
      "execution_count": null,
      "outputs": []
    },
    {
      "cell_type": "markdown",
      "metadata": {
        "id": "U7QX4praoJBd"
      },
      "source": [
        "## Feature Selection\n",
        "\n",
        "\n",
        "Some features, like \"PoolArea\", have very low variance. It is a same way of saying \"very little information\". We will kick out these features\n",
        "\n",
        "https://scikit-learn.org/stable/modules/generated/sklearn.feature_selection.VarianceThreshold.html"
      ]
    },
    {
      "cell_type": "code",
      "metadata": {
        "colab": {
          "base_uri": "https://localhost:8080/",
          "height": 317
        },
        "id": "ohUSiHlVoJBe",
        "outputId": "7c381165-548d-4b9e-d965-583dee3f0e1b"
      },
      "source": [
        "X_train_scaled.describe()"
      ],
      "execution_count": null,
      "outputs": [
        {
          "output_type": "execute_result",
          "data": {
            "text/html": [
              "<div>\n",
              "<style scoped>\n",
              "    .dataframe tbody tr th:only-of-type {\n",
              "        vertical-align: middle;\n",
              "    }\n",
              "\n",
              "    .dataframe tbody tr th {\n",
              "        vertical-align: top;\n",
              "    }\n",
              "\n",
              "    .dataframe thead th {\n",
              "        text-align: right;\n",
              "    }\n",
              "</style>\n",
              "<table border=\"1\" class=\"dataframe\">\n",
              "  <thead>\n",
              "    <tr style=\"text-align: right;\">\n",
              "      <th></th>\n",
              "      <th>MSSubClass</th>\n",
              "      <th>LotFrontage</th>\n",
              "      <th>LotArea</th>\n",
              "      <th>OverallQual</th>\n",
              "      <th>OverallCond</th>\n",
              "      <th>YearBuilt</th>\n",
              "      <th>YearRemodAdd</th>\n",
              "      <th>MasVnrArea</th>\n",
              "      <th>BsmtFinSF1</th>\n",
              "      <th>BsmtFinSF2</th>\n",
              "      <th>BsmtUnfSF</th>\n",
              "      <th>TotalBsmtSF</th>\n",
              "      <th>1stFlrSF</th>\n",
              "      <th>2ndFlrSF</th>\n",
              "      <th>LowQualFinSF</th>\n",
              "      <th>GrLivArea</th>\n",
              "      <th>BsmtFullBath</th>\n",
              "      <th>BsmtHalfBath</th>\n",
              "      <th>FullBath</th>\n",
              "      <th>HalfBath</th>\n",
              "      <th>BedroomAbvGr</th>\n",
              "      <th>KitchenAbvGr</th>\n",
              "      <th>TotRmsAbvGrd</th>\n",
              "      <th>Fireplaces</th>\n",
              "      <th>GarageYrBlt</th>\n",
              "      <th>GarageCars</th>\n",
              "      <th>GarageArea</th>\n",
              "      <th>WoodDeckSF</th>\n",
              "      <th>OpenPorchSF</th>\n",
              "      <th>EnclosedPorch</th>\n",
              "      <th>3SsnPorch</th>\n",
              "      <th>ScreenPorch</th>\n",
              "      <th>PoolArea</th>\n",
              "      <th>MiscVal</th>\n",
              "      <th>MoSold</th>\n",
              "      <th>YrSold</th>\n",
              "    </tr>\n",
              "  </thead>\n",
              "  <tbody>\n",
              "    <tr>\n",
              "      <th>count</th>\n",
              "      <td>1168.000000</td>\n",
              "      <td>967.000000</td>\n",
              "      <td>1168.000000</td>\n",
              "      <td>1168.000000</td>\n",
              "      <td>1168.000000</td>\n",
              "      <td>1168.000000</td>\n",
              "      <td>1168.000000</td>\n",
              "      <td>1161.000000</td>\n",
              "      <td>1168.000000</td>\n",
              "      <td>1168.000000</td>\n",
              "      <td>1168.000000</td>\n",
              "      <td>1168.000000</td>\n",
              "      <td>1168.000000</td>\n",
              "      <td>1168.000000</td>\n",
              "      <td>1168.000000</td>\n",
              "      <td>1168.000000</td>\n",
              "      <td>1168.000000</td>\n",
              "      <td>1168.000000</td>\n",
              "      <td>1168.000000</td>\n",
              "      <td>1168.000000</td>\n",
              "      <td>1168.000000</td>\n",
              "      <td>1168.000000</td>\n",
              "      <td>1168.000000</td>\n",
              "      <td>1168.000000</td>\n",
              "      <td>1098.000000</td>\n",
              "      <td>1168.000000</td>\n",
              "      <td>1168.000000</td>\n",
              "      <td>1168.000000</td>\n",
              "      <td>1168.000000</td>\n",
              "      <td>1168.000000</td>\n",
              "      <td>1168.000000</td>\n",
              "      <td>1168.000000</td>\n",
              "      <td>1168.000000</td>\n",
              "      <td>1168.000000</td>\n",
              "      <td>1168.000000</td>\n",
              "      <td>1168.000000</td>\n",
              "    </tr>\n",
              "    <tr>\n",
              "      <th>mean</th>\n",
              "      <td>0.220865</td>\n",
              "      <td>0.166516</td>\n",
              "      <td>0.042371</td>\n",
              "      <td>0.561644</td>\n",
              "      <td>0.571169</td>\n",
              "      <td>0.713005</td>\n",
              "      <td>0.570434</td>\n",
              "      <td>0.063252</td>\n",
              "      <td>0.079973</td>\n",
              "      <td>0.032176</td>\n",
              "      <td>0.256160</td>\n",
              "      <td>0.171900</td>\n",
              "      <td>0.188922</td>\n",
              "      <td>0.164510</td>\n",
              "      <td>0.010081</td>\n",
              "      <td>0.220196</td>\n",
              "      <td>0.219178</td>\n",
              "      <td>0.030822</td>\n",
              "      <td>0.516838</td>\n",
              "      <td>0.184503</td>\n",
              "      <td>0.356914</td>\n",
              "      <td>0.349030</td>\n",
              "      <td>0.373216</td>\n",
              "      <td>0.200628</td>\n",
              "      <td>0.691003</td>\n",
              "      <td>0.435146</td>\n",
              "      <td>0.329258</td>\n",
              "      <td>0.128656</td>\n",
              "      <td>0.085851</td>\n",
              "      <td>0.072774</td>\n",
              "      <td>0.006180</td>\n",
              "      <td>0.033180</td>\n",
              "      <td>0.004079</td>\n",
              "      <td>0.003955</td>\n",
              "      <td>0.484823</td>\n",
              "      <td>0.450557</td>\n",
              "    </tr>\n",
              "    <tr>\n",
              "      <th>std</th>\n",
              "      <td>0.250193</td>\n",
              "      <td>0.084685</td>\n",
              "      <td>0.050519</td>\n",
              "      <td>0.154367</td>\n",
              "      <td>0.141451</td>\n",
              "      <td>0.218855</td>\n",
              "      <td>0.346709</td>\n",
              "      <td>0.112252</td>\n",
              "      <td>0.081457</td>\n",
              "      <td>0.109854</td>\n",
              "      <td>0.200742</td>\n",
              "      <td>0.072162</td>\n",
              "      <td>0.088421</td>\n",
              "      <td>0.209933</td>\n",
              "      <td>0.085908</td>\n",
              "      <td>0.098627</td>\n",
              "      <td>0.260002</td>\n",
              "      <td>0.123815</td>\n",
              "      <td>0.184370</td>\n",
              "      <td>0.250089</td>\n",
              "      <td>0.103918</td>\n",
              "      <td>0.074574</td>\n",
              "      <td>0.135589</td>\n",
              "      <td>0.219898</td>\n",
              "      <td>0.237334</td>\n",
              "      <td>0.186922</td>\n",
              "      <td>0.151302</td>\n",
              "      <td>0.168645</td>\n",
              "      <td>0.123294</td>\n",
              "      <td>0.189362</td>\n",
              "      <td>0.058036</td>\n",
              "      <td>0.123663</td>\n",
              "      <td>0.057391</td>\n",
              "      <td>0.035482</td>\n",
              "      <td>0.247466</td>\n",
              "      <td>0.333706</td>\n",
              "    </tr>\n",
              "    <tr>\n",
              "      <th>min</th>\n",
              "      <td>0.000000</td>\n",
              "      <td>0.000000</td>\n",
              "      <td>0.000000</td>\n",
              "      <td>0.000000</td>\n",
              "      <td>0.000000</td>\n",
              "      <td>0.000000</td>\n",
              "      <td>0.000000</td>\n",
              "      <td>0.000000</td>\n",
              "      <td>0.000000</td>\n",
              "      <td>0.000000</td>\n",
              "      <td>0.000000</td>\n",
              "      <td>0.000000</td>\n",
              "      <td>0.000000</td>\n",
              "      <td>0.000000</td>\n",
              "      <td>0.000000</td>\n",
              "      <td>0.000000</td>\n",
              "      <td>0.000000</td>\n",
              "      <td>0.000000</td>\n",
              "      <td>0.000000</td>\n",
              "      <td>0.000000</td>\n",
              "      <td>0.000000</td>\n",
              "      <td>0.000000</td>\n",
              "      <td>0.000000</td>\n",
              "      <td>0.000000</td>\n",
              "      <td>0.000000</td>\n",
              "      <td>0.000000</td>\n",
              "      <td>0.000000</td>\n",
              "      <td>0.000000</td>\n",
              "      <td>0.000000</td>\n",
              "      <td>0.000000</td>\n",
              "      <td>0.000000</td>\n",
              "      <td>0.000000</td>\n",
              "      <td>0.000000</td>\n",
              "      <td>0.000000</td>\n",
              "      <td>0.000000</td>\n",
              "      <td>0.000000</td>\n",
              "    </tr>\n",
              "    <tr>\n",
              "      <th>25%</th>\n",
              "      <td>0.000000</td>\n",
              "      <td>0.123288</td>\n",
              "      <td>0.028143</td>\n",
              "      <td>0.444444</td>\n",
              "      <td>0.500000</td>\n",
              "      <td>0.586957</td>\n",
              "      <td>0.266667</td>\n",
              "      <td>0.000000</td>\n",
              "      <td>0.000000</td>\n",
              "      <td>0.000000</td>\n",
              "      <td>0.098235</td>\n",
              "      <td>0.128273</td>\n",
              "      <td>0.122074</td>\n",
              "      <td>0.000000</td>\n",
              "      <td>0.000000</td>\n",
              "      <td>0.149209</td>\n",
              "      <td>0.000000</td>\n",
              "      <td>0.000000</td>\n",
              "      <td>0.333333</td>\n",
              "      <td>0.000000</td>\n",
              "      <td>0.250000</td>\n",
              "      <td>0.333333</td>\n",
              "      <td>0.250000</td>\n",
              "      <td>0.000000</td>\n",
              "      <td>0.519231</td>\n",
              "      <td>0.250000</td>\n",
              "      <td>0.220028</td>\n",
              "      <td>0.000000</td>\n",
              "      <td>0.000000</td>\n",
              "      <td>0.000000</td>\n",
              "      <td>0.000000</td>\n",
              "      <td>0.000000</td>\n",
              "      <td>0.000000</td>\n",
              "      <td>0.000000</td>\n",
              "      <td>0.363636</td>\n",
              "      <td>0.250000</td>\n",
              "    </tr>\n",
              "    <tr>\n",
              "      <th>50%</th>\n",
              "      <td>0.176471</td>\n",
              "      <td>0.164384</td>\n",
              "      <td>0.037064</td>\n",
              "      <td>0.555556</td>\n",
              "      <td>0.500000</td>\n",
              "      <td>0.721014</td>\n",
              "      <td>0.716667</td>\n",
              "      <td>0.000000</td>\n",
              "      <td>0.069897</td>\n",
              "      <td>0.000000</td>\n",
              "      <td>0.215281</td>\n",
              "      <td>0.160720</td>\n",
              "      <td>0.172441</td>\n",
              "      <td>0.000000</td>\n",
              "      <td>0.000000</td>\n",
              "      <td>0.209118</td>\n",
              "      <td>0.000000</td>\n",
              "      <td>0.000000</td>\n",
              "      <td>0.666667</td>\n",
              "      <td>0.000000</td>\n",
              "      <td>0.375000</td>\n",
              "      <td>0.333333</td>\n",
              "      <td>0.333333</td>\n",
              "      <td>0.333333</td>\n",
              "      <td>0.692308</td>\n",
              "      <td>0.500000</td>\n",
              "      <td>0.334274</td>\n",
              "      <td>0.000000</td>\n",
              "      <td>0.042065</td>\n",
              "      <td>0.000000</td>\n",
              "      <td>0.000000</td>\n",
              "      <td>0.000000</td>\n",
              "      <td>0.000000</td>\n",
              "      <td>0.000000</td>\n",
              "      <td>0.454545</td>\n",
              "      <td>0.500000</td>\n",
              "    </tr>\n",
              "    <tr>\n",
              "      <th>75%</th>\n",
              "      <td>0.294118</td>\n",
              "      <td>0.202055</td>\n",
              "      <td>0.046637</td>\n",
              "      <td>0.666667</td>\n",
              "      <td>0.625000</td>\n",
              "      <td>0.927536</td>\n",
              "      <td>0.900000</td>\n",
              "      <td>0.100625</td>\n",
              "      <td>0.127746</td>\n",
              "      <td>0.000000</td>\n",
              "      <td>0.364259</td>\n",
              "      <td>0.212848</td>\n",
              "      <td>0.242370</td>\n",
              "      <td>0.346731</td>\n",
              "      <td>0.000000</td>\n",
              "      <td>0.266767</td>\n",
              "      <td>0.500000</td>\n",
              "      <td>0.000000</td>\n",
              "      <td>0.666667</td>\n",
              "      <td>0.500000</td>\n",
              "      <td>0.375000</td>\n",
              "      <td>0.333333</td>\n",
              "      <td>0.416667</td>\n",
              "      <td>0.333333</td>\n",
              "      <td>0.920673</td>\n",
              "      <td>0.500000</td>\n",
              "      <td>0.406206</td>\n",
              "      <td>0.228261</td>\n",
              "      <td>0.124283</td>\n",
              "      <td>0.000000</td>\n",
              "      <td>0.000000</td>\n",
              "      <td>0.000000</td>\n",
              "      <td>0.000000</td>\n",
              "      <td>0.000000</td>\n",
              "      <td>0.636364</td>\n",
              "      <td>0.750000</td>\n",
              "    </tr>\n",
              "    <tr>\n",
              "      <th>max</th>\n",
              "      <td>1.000000</td>\n",
              "      <td>1.000000</td>\n",
              "      <td>1.000000</td>\n",
              "      <td>1.000000</td>\n",
              "      <td>1.000000</td>\n",
              "      <td>1.000000</td>\n",
              "      <td>1.000000</td>\n",
              "      <td>1.000000</td>\n",
              "      <td>1.000000</td>\n",
              "      <td>1.000000</td>\n",
              "      <td>1.000000</td>\n",
              "      <td>1.000000</td>\n",
              "      <td>1.000000</td>\n",
              "      <td>1.000000</td>\n",
              "      <td>1.000000</td>\n",
              "      <td>1.000000</td>\n",
              "      <td>1.000000</td>\n",
              "      <td>1.000000</td>\n",
              "      <td>1.000000</td>\n",
              "      <td>1.000000</td>\n",
              "      <td>1.000000</td>\n",
              "      <td>1.000000</td>\n",
              "      <td>1.000000</td>\n",
              "      <td>1.000000</td>\n",
              "      <td>1.000000</td>\n",
              "      <td>1.000000</td>\n",
              "      <td>1.000000</td>\n",
              "      <td>1.000000</td>\n",
              "      <td>1.000000</td>\n",
              "      <td>1.000000</td>\n",
              "      <td>1.000000</td>\n",
              "      <td>1.000000</td>\n",
              "      <td>1.000000</td>\n",
              "      <td>1.000000</td>\n",
              "      <td>1.000000</td>\n",
              "      <td>1.000000</td>\n",
              "    </tr>\n",
              "  </tbody>\n",
              "</table>\n",
              "</div>"
            ],
            "text/plain": [
              "        MSSubClass  LotFrontage  ...       MoSold       YrSold\n",
              "count  1168.000000   967.000000  ...  1168.000000  1168.000000\n",
              "mean      0.220865     0.166516  ...     0.484823     0.450557\n",
              "std       0.250193     0.084685  ...     0.247466     0.333706\n",
              "min       0.000000     0.000000  ...     0.000000     0.000000\n",
              "25%       0.000000     0.123288  ...     0.363636     0.250000\n",
              "50%       0.176471     0.164384  ...     0.454545     0.500000\n",
              "75%       0.294118     0.202055  ...     0.636364     0.750000\n",
              "max       1.000000     1.000000  ...     1.000000     1.000000\n",
              "\n",
              "[8 rows x 36 columns]"
            ]
          },
          "metadata": {},
          "execution_count": 7
        }
      ]
    },
    {
      "cell_type": "code",
      "metadata": {
        "id": "ZV3_PAvToJBf"
      },
      "source": [
        "# X_train_scaled.var()"
      ],
      "execution_count": null,
      "outputs": []
    },
    {
      "cell_type": "code",
      "metadata": {
        "id": "CYiBtdjLoJBg"
      },
      "source": [
        "from sklearn.feature_selection import VarianceThreshold\n",
        "\n",
        "selector = VarianceThreshold(threshold=0.05)\n",
        "X_train_F = selector.fit_transform(X_train_scaled)"
      ],
      "execution_count": null,
      "outputs": []
    },
    {
      "cell_type": "code",
      "metadata": {
        "colab": {
          "base_uri": "https://localhost:8080/"
        },
        "id": "9i4xYmN0oJBh",
        "outputId": "228c160b-9f52-4e3c-c3e3-6fee3d50ac2d"
      },
      "source": [
        "# those are the indices of the columns kept\n",
        "kept_columns = selector.get_support(indices=True)\n",
        "kept_columns"
      ],
      "execution_count": null,
      "outputs": [
        {
          "output_type": "execute_result",
          "data": {
            "text/plain": [
              "array([ 0,  6, 16, 19, 24, 34, 35])"
            ]
          },
          "metadata": {},
          "execution_count": 10
        }
      ]
    },
    {
      "cell_type": "code",
      "metadata": {
        "colab": {
          "base_uri": "https://localhost:8080/"
        },
        "id": "iUyNYAkCoJBi",
        "outputId": "e6f38bfe-5dcc-4542-ed3b-54d9ed514bcf"
      },
      "source": [
        "# those are the column names\n",
        "kept_columns_names = X_train_scaled.columns[kept_columns]\n",
        "kept_columns_names"
      ],
      "execution_count": null,
      "outputs": [
        {
          "output_type": "execute_result",
          "data": {
            "text/plain": [
              "Index(['MSSubClass', 'YearRemodAdd', 'BsmtFullBath', 'HalfBath', 'GarageYrBlt',\n",
              "       'MoSold', 'YrSold'],\n",
              "      dtype='object')"
            ]
          },
          "metadata": {},
          "execution_count": 11
        }
      ]
    },
    {
      "cell_type": "code",
      "metadata": {
        "colab": {
          "base_uri": "https://localhost:8080/",
          "height": 419
        },
        "id": "zg2WbufSoJBi",
        "outputId": "b6a4d14e-651e-471f-a69d-74fda6c8f0bc"
      },
      "source": [
        "X_train_selected = pd.DataFrame(X_train_F, columns=kept_columns_names)\n",
        "X_train_selected"
      ],
      "execution_count": null,
      "outputs": [
        {
          "output_type": "execute_result",
          "data": {
            "text/html": [
              "<div>\n",
              "<style scoped>\n",
              "    .dataframe tbody tr th:only-of-type {\n",
              "        vertical-align: middle;\n",
              "    }\n",
              "\n",
              "    .dataframe tbody tr th {\n",
              "        vertical-align: top;\n",
              "    }\n",
              "\n",
              "    .dataframe thead th {\n",
              "        text-align: right;\n",
              "    }\n",
              "</style>\n",
              "<table border=\"1\" class=\"dataframe\">\n",
              "  <thead>\n",
              "    <tr style=\"text-align: right;\">\n",
              "      <th></th>\n",
              "      <th>MSSubClass</th>\n",
              "      <th>YearRemodAdd</th>\n",
              "      <th>BsmtFullBath</th>\n",
              "      <th>HalfBath</th>\n",
              "      <th>GarageYrBlt</th>\n",
              "      <th>MoSold</th>\n",
              "      <th>YrSold</th>\n",
              "    </tr>\n",
              "  </thead>\n",
              "  <tbody>\n",
              "    <tr>\n",
              "      <th>0</th>\n",
              "      <td>0.000000</td>\n",
              "      <td>0.283333</td>\n",
              "      <td>0.0</td>\n",
              "      <td>0.0</td>\n",
              "      <td>0.586538</td>\n",
              "      <td>0.545455</td>\n",
              "      <td>0.75</td>\n",
              "    </tr>\n",
              "    <tr>\n",
              "      <th>1</th>\n",
              "      <td>0.235294</td>\n",
              "      <td>0.850000</td>\n",
              "      <td>0.5</td>\n",
              "      <td>0.5</td>\n",
              "      <td>0.913462</td>\n",
              "      <td>0.363636</td>\n",
              "      <td>0.25</td>\n",
              "    </tr>\n",
              "    <tr>\n",
              "      <th>2</th>\n",
              "      <td>0.000000</td>\n",
              "      <td>0.966667</td>\n",
              "      <td>0.5</td>\n",
              "      <td>0.5</td>\n",
              "      <td>0.625000</td>\n",
              "      <td>0.272727</td>\n",
              "      <td>1.00</td>\n",
              "    </tr>\n",
              "    <tr>\n",
              "      <th>3</th>\n",
              "      <td>0.235294</td>\n",
              "      <td>0.716667</td>\n",
              "      <td>0.0</td>\n",
              "      <td>0.5</td>\n",
              "      <td>0.836538</td>\n",
              "      <td>0.454545</td>\n",
              "      <td>0.50</td>\n",
              "    </tr>\n",
              "    <tr>\n",
              "      <th>4</th>\n",
              "      <td>0.235294</td>\n",
              "      <td>0.416667</td>\n",
              "      <td>0.5</td>\n",
              "      <td>0.5</td>\n",
              "      <td>0.663462</td>\n",
              "      <td>0.090909</td>\n",
              "      <td>0.00</td>\n",
              "    </tr>\n",
              "    <tr>\n",
              "      <th>...</th>\n",
              "      <td>...</td>\n",
              "      <td>...</td>\n",
              "      <td>...</td>\n",
              "      <td>...</td>\n",
              "      <td>...</td>\n",
              "      <td>...</td>\n",
              "      <td>...</td>\n",
              "    </tr>\n",
              "    <tr>\n",
              "      <th>1163</th>\n",
              "      <td>0.176471</td>\n",
              "      <td>0.883333</td>\n",
              "      <td>0.0</td>\n",
              "      <td>0.0</td>\n",
              "      <td>0.423077</td>\n",
              "      <td>0.454545</td>\n",
              "      <td>0.00</td>\n",
              "    </tr>\n",
              "    <tr>\n",
              "      <th>1164</th>\n",
              "      <td>0.000000</td>\n",
              "      <td>0.866667</td>\n",
              "      <td>0.5</td>\n",
              "      <td>0.0</td>\n",
              "      <td>0.913462</td>\n",
              "      <td>0.454545</td>\n",
              "      <td>0.75</td>\n",
              "    </tr>\n",
              "    <tr>\n",
              "      <th>1165</th>\n",
              "      <td>0.176471</td>\n",
              "      <td>0.533333</td>\n",
              "      <td>0.5</td>\n",
              "      <td>0.0</td>\n",
              "      <td>0.326923</td>\n",
              "      <td>0.545455</td>\n",
              "      <td>0.50</td>\n",
              "    </tr>\n",
              "    <tr>\n",
              "      <th>1166</th>\n",
              "      <td>0.823529</td>\n",
              "      <td>0.916667</td>\n",
              "      <td>0.0</td>\n",
              "      <td>0.5</td>\n",
              "      <td>0.951923</td>\n",
              "      <td>0.272727</td>\n",
              "      <td>0.00</td>\n",
              "    </tr>\n",
              "    <tr>\n",
              "      <th>1167</th>\n",
              "      <td>0.000000</td>\n",
              "      <td>0.416667</td>\n",
              "      <td>0.5</td>\n",
              "      <td>0.0</td>\n",
              "      <td>0.663462</td>\n",
              "      <td>1.000000</td>\n",
              "      <td>0.00</td>\n",
              "    </tr>\n",
              "  </tbody>\n",
              "</table>\n",
              "<p>1168 rows × 7 columns</p>\n",
              "</div>"
            ],
            "text/plain": [
              "      MSSubClass  YearRemodAdd  BsmtFullBath  ...  GarageYrBlt    MoSold  YrSold\n",
              "0       0.000000      0.283333           0.0  ...     0.586538  0.545455    0.75\n",
              "1       0.235294      0.850000           0.5  ...     0.913462  0.363636    0.25\n",
              "2       0.000000      0.966667           0.5  ...     0.625000  0.272727    1.00\n",
              "3       0.235294      0.716667           0.0  ...     0.836538  0.454545    0.50\n",
              "4       0.235294      0.416667           0.5  ...     0.663462  0.090909    0.00\n",
              "...          ...           ...           ...  ...          ...       ...     ...\n",
              "1163    0.176471      0.883333           0.0  ...     0.423077  0.454545    0.00\n",
              "1164    0.000000      0.866667           0.5  ...     0.913462  0.454545    0.75\n",
              "1165    0.176471      0.533333           0.5  ...     0.326923  0.545455    0.50\n",
              "1166    0.823529      0.916667           0.0  ...     0.951923  0.272727    0.00\n",
              "1167    0.000000      0.416667           0.5  ...     0.663462  1.000000    0.00\n",
              "\n",
              "[1168 rows x 7 columns]"
            ]
          },
          "metadata": {},
          "execution_count": 12
        }
      ]
    },
    {
      "cell_type": "markdown",
      "metadata": {
        "id": "KYN2YOq7oJBj"
      },
      "source": [
        "## Missing data\n",
        "\n",
        "https://scikit-learn.org/stable/modules/generated/sklearn.impute.SimpleImputer.html?highlight=simpleimputer#sklearn.impute.SimpleImputer"
      ]
    },
    {
      "cell_type": "code",
      "metadata": {
        "colab": {
          "base_uri": "https://localhost:8080/"
        },
        "id": "80FRDIr-oJBk",
        "outputId": "929e02ca-3d4c-45f9-8304-f3c50cb10ad2"
      },
      "source": [
        "X_train_selected.isna().sum()"
      ],
      "execution_count": null,
      "outputs": [
        {
          "output_type": "execute_result",
          "data": {
            "text/plain": [
              "MSSubClass       0\n",
              "YearRemodAdd     0\n",
              "BsmtFullBath     0\n",
              "HalfBath         0\n",
              "GarageYrBlt     70\n",
              "MoSold           0\n",
              "YrSold           0\n",
              "dtype: int64"
            ]
          },
          "metadata": {},
          "execution_count": 13
        }
      ]
    },
    {
      "cell_type": "code",
      "metadata": {
        "id": "1j564nkboJBl"
      },
      "source": [
        "from sklearn.impute import SimpleImputer\n",
        "\n",
        "imputer = SimpleImputer(strategy=\"mean\")"
      ],
      "execution_count": null,
      "outputs": []
    },
    {
      "cell_type": "code",
      "metadata": {
        "colab": {
          "base_uri": "https://localhost:8080/"
        },
        "id": "IDfJ6Bd6oJBl",
        "outputId": "8c0df37d-cd23-49af-bf2f-347ba788463e"
      },
      "source": [
        "X_train_ready = imputer.fit_transform(X_train_selected)\n",
        "X_train_ready = pd.DataFrame(X_train_ready, columns=kept_columns_names)\n",
        "X_train_ready.isna().sum()"
      ],
      "execution_count": null,
      "outputs": [
        {
          "output_type": "execute_result",
          "data": {
            "text/plain": [
              "MSSubClass      0\n",
              "YearRemodAdd    0\n",
              "BsmtFullBath    0\n",
              "HalfBath        0\n",
              "GarageYrBlt     0\n",
              "MoSold          0\n",
              "YrSold          0\n",
              "dtype: int64"
            ]
          },
          "metadata": {},
          "execution_count": 15
        }
      ]
    },
    {
      "cell_type": "markdown",
      "metadata": {
        "id": "kBE3ZGRDoJBm"
      },
      "source": [
        "## Modelling"
      ]
    },
    {
      "cell_type": "markdown",
      "metadata": {
        "id": "oVCeGitxoJBm"
      },
      "source": [
        "### KNN"
      ]
    },
    {
      "cell_type": "code",
      "metadata": {
        "id": "85et4PW-oJBp"
      },
      "source": [
        "from sklearn.neighbors import KNeighborsRegressor\n",
        "\n",
        "param_grid = {\n",
        "    \"n_neighbors\": range(1, 150),\n",
        "    \"weights\": ['uniform', 'distance']\n",
        "}"
      ],
      "execution_count": null,
      "outputs": []
    },
    {
      "cell_type": "code",
      "metadata": {
        "id": "r29d1xgkoJB1"
      },
      "source": [
        "from sklearn.model_selection import RandomizedSearchCV\n",
        "\n",
        "\n",
        "knn_search = RandomizedSearchCV(KNeighborsRegressor(),\n",
        "                                   param_grid,\n",
        "                                   scoring=\"neg_mean_absolute_error\",\n",
        "                                   n_iter=50,\n",
        "                                   cv=5,\n",
        "                                   n_jobs=4,\n",
        "                                   random_state=123)"
      ],
      "execution_count": null,
      "outputs": []
    },
    {
      "cell_type": "code",
      "metadata": {
        "colab": {
          "base_uri": "https://localhost:8080/"
        },
        "id": "CaRoe0SjoJB4",
        "outputId": "bf3bf4a7-ba8d-45ec-ff9e-84b7ba36084f"
      },
      "source": [
        "knn_search.fit(X_train_ready, y_train)"
      ],
      "execution_count": null,
      "outputs": [
        {
          "output_type": "execute_result",
          "data": {
            "text/plain": [
              "RandomizedSearchCV(cv=5, error_score=nan,\n",
              "                   estimator=KNeighborsRegressor(algorithm='auto', leaf_size=30,\n",
              "                                                 metric='minkowski',\n",
              "                                                 metric_params=None,\n",
              "                                                 n_jobs=None, n_neighbors=5,\n",
              "                                                 p=2, weights='uniform'),\n",
              "                   iid='deprecated', n_iter=50, n_jobs=4,\n",
              "                   param_distributions={'n_neighbors': range(1, 150),\n",
              "                                        'weights': ['uniform', 'distance']},\n",
              "                   pre_dispatch='2*n_jobs', random_state=123, refit=True,\n",
              "                   return_train_score=False, scoring='neg_mean_absolute_error',\n",
              "                   verbose=0)"
            ]
          },
          "metadata": {},
          "execution_count": 18
        }
      ]
    },
    {
      "cell_type": "code",
      "metadata": {
        "colab": {
          "base_uri": "https://localhost:8080/"
        },
        "id": "h6p8dCN4oJB5",
        "outputId": "4f1a203c-8763-4c05-cca4-21580f469e32"
      },
      "source": [
        "knn_search.best_params_"
      ],
      "execution_count": null,
      "outputs": [
        {
          "output_type": "execute_result",
          "data": {
            "text/plain": [
              "{'n_neighbors': 28, 'weights': 'uniform'}"
            ]
          },
          "metadata": {},
          "execution_count": 19
        }
      ]
    },
    {
      "cell_type": "code",
      "metadata": {
        "colab": {
          "base_uri": "https://localhost:8080/"
        },
        "id": "dGK8xi35oJB6",
        "outputId": "d69e3d01-9ba9-4276-ec5a-c6b4bbe08c00"
      },
      "source": [
        "- knn_search.best_score_"
      ],
      "execution_count": null,
      "outputs": [
        {
          "output_type": "execute_result",
          "data": {
            "text/plain": [
              "42077.038546039075"
            ]
          },
          "metadata": {},
          "execution_count": 20
        }
      ]
    },
    {
      "cell_type": "markdown",
      "metadata": {
        "id": "dcD4N-R-oJB6"
      },
      "source": [
        "## Testing"
      ]
    },
    {
      "cell_type": "code",
      "metadata": {
        "id": "VMP00-GnoJB7"
      },
      "source": [
        "X_test_scaled = minmax.transform(X_test)\n",
        "X_test_selection = selector.transform(X_test_scaled)\n",
        "X_test_ready = imputer.transform(X_test_selection)"
      ],
      "execution_count": null,
      "outputs": []
    },
    {
      "cell_type": "code",
      "metadata": {
        "id": "p3Xzw8IAoJDI"
      },
      "source": [
        "test_predictions = knn_search.predict(X_test_ready)"
      ],
      "execution_count": null,
      "outputs": []
    },
    {
      "cell_type": "code",
      "metadata": {
        "colab": {
          "base_uri": "https://localhost:8080/"
        },
        "id": "RcQAZoBfoJDI",
        "outputId": "46592c1c-1526-49df-a515-7177654ae57b"
      },
      "source": [
        "from sklearn.metrics import mean_absolute_error\n",
        "\n",
        "mean_absolute_error(test_predictions, y_test)"
      ],
      "execution_count": null,
      "outputs": [
        {
          "output_type": "execute_result",
          "data": {
            "text/plain": [
              "41370.802226027394"
            ]
          },
          "metadata": {},
          "execution_count": 23
        }
      ]
    },
    {
      "cell_type": "code",
      "metadata": {
        "id": "Nt9rKFhPoJDJ"
      },
      "source": [
        "test_results = {}\n",
        "\n",
        "test_results[\"knn\"] = mean_absolute_error(test_predictions, y_test)"
      ],
      "execution_count": null,
      "outputs": []
    },
    {
      "cell_type": "markdown",
      "metadata": {
        "id": "fben504hoJDJ"
      },
      "source": [
        "# Predicting Housing Prices With Tensorflow\n",
        "\n",
        "Following this example: https://www.tensorflow.org/tutorials/keras/regression"
      ]
    },
    {
      "cell_type": "markdown",
      "metadata": {
        "id": "0yTUn6rPoJDN"
      },
      "source": [
        "## Converting Dataframe to tensor"
      ]
    },
    {
      "cell_type": "code",
      "metadata": {
        "colab": {
          "base_uri": "https://localhost:8080/",
          "height": 204
        },
        "id": "rc7W7nnvoJDO",
        "outputId": "2faf1719-ace5-44ee-8273-3f9e22b25b25"
      },
      "source": [
        "X_train_ready.head()"
      ],
      "execution_count": null,
      "outputs": [
        {
          "output_type": "execute_result",
          "data": {
            "text/html": [
              "<div>\n",
              "<style scoped>\n",
              "    .dataframe tbody tr th:only-of-type {\n",
              "        vertical-align: middle;\n",
              "    }\n",
              "\n",
              "    .dataframe tbody tr th {\n",
              "        vertical-align: top;\n",
              "    }\n",
              "\n",
              "    .dataframe thead th {\n",
              "        text-align: right;\n",
              "    }\n",
              "</style>\n",
              "<table border=\"1\" class=\"dataframe\">\n",
              "  <thead>\n",
              "    <tr style=\"text-align: right;\">\n",
              "      <th></th>\n",
              "      <th>MSSubClass</th>\n",
              "      <th>YearRemodAdd</th>\n",
              "      <th>BsmtFullBath</th>\n",
              "      <th>HalfBath</th>\n",
              "      <th>GarageYrBlt</th>\n",
              "      <th>MoSold</th>\n",
              "      <th>YrSold</th>\n",
              "    </tr>\n",
              "  </thead>\n",
              "  <tbody>\n",
              "    <tr>\n",
              "      <th>0</th>\n",
              "      <td>0.000000</td>\n",
              "      <td>0.283333</td>\n",
              "      <td>0.0</td>\n",
              "      <td>0.0</td>\n",
              "      <td>0.586538</td>\n",
              "      <td>0.545455</td>\n",
              "      <td>0.75</td>\n",
              "    </tr>\n",
              "    <tr>\n",
              "      <th>1</th>\n",
              "      <td>0.235294</td>\n",
              "      <td>0.850000</td>\n",
              "      <td>0.5</td>\n",
              "      <td>0.5</td>\n",
              "      <td>0.913462</td>\n",
              "      <td>0.363636</td>\n",
              "      <td>0.25</td>\n",
              "    </tr>\n",
              "    <tr>\n",
              "      <th>2</th>\n",
              "      <td>0.000000</td>\n",
              "      <td>0.966667</td>\n",
              "      <td>0.5</td>\n",
              "      <td>0.5</td>\n",
              "      <td>0.625000</td>\n",
              "      <td>0.272727</td>\n",
              "      <td>1.00</td>\n",
              "    </tr>\n",
              "    <tr>\n",
              "      <th>3</th>\n",
              "      <td>0.235294</td>\n",
              "      <td>0.716667</td>\n",
              "      <td>0.0</td>\n",
              "      <td>0.5</td>\n",
              "      <td>0.836538</td>\n",
              "      <td>0.454545</td>\n",
              "      <td>0.50</td>\n",
              "    </tr>\n",
              "    <tr>\n",
              "      <th>4</th>\n",
              "      <td>0.235294</td>\n",
              "      <td>0.416667</td>\n",
              "      <td>0.5</td>\n",
              "      <td>0.5</td>\n",
              "      <td>0.663462</td>\n",
              "      <td>0.090909</td>\n",
              "      <td>0.00</td>\n",
              "    </tr>\n",
              "  </tbody>\n",
              "</table>\n",
              "</div>"
            ],
            "text/plain": [
              "   MSSubClass  YearRemodAdd  BsmtFullBath  ...  GarageYrBlt    MoSold  YrSold\n",
              "0    0.000000      0.283333           0.0  ...     0.586538  0.545455    0.75\n",
              "1    0.235294      0.850000           0.5  ...     0.913462  0.363636    0.25\n",
              "2    0.000000      0.966667           0.5  ...     0.625000  0.272727    1.00\n",
              "3    0.235294      0.716667           0.0  ...     0.836538  0.454545    0.50\n",
              "4    0.235294      0.416667           0.5  ...     0.663462  0.090909    0.00\n",
              "\n",
              "[5 rows x 7 columns]"
            ]
          },
          "metadata": {},
          "execution_count": 25
        }
      ]
    },
    {
      "cell_type": "code",
      "metadata": {
        "colab": {
          "base_uri": "https://localhost:8080/"
        },
        "id": "Q1Y8jNyMoJDO",
        "outputId": "b90d13c2-999d-46e8-e25d-326807cc30fd"
      },
      "source": [
        "X_train_ready.info()"
      ],
      "execution_count": null,
      "outputs": [
        {
          "output_type": "stream",
          "name": "stdout",
          "text": [
            "<class 'pandas.core.frame.DataFrame'>\n",
            "RangeIndex: 1168 entries, 0 to 1167\n",
            "Data columns (total 7 columns):\n",
            " #   Column        Non-Null Count  Dtype  \n",
            "---  ------        --------------  -----  \n",
            " 0   MSSubClass    1168 non-null   float64\n",
            " 1   YearRemodAdd  1168 non-null   float64\n",
            " 2   BsmtFullBath  1168 non-null   float64\n",
            " 3   HalfBath      1168 non-null   float64\n",
            " 4   GarageYrBlt   1168 non-null   float64\n",
            " 5   MoSold        1168 non-null   float64\n",
            " 6   YrSold        1168 non-null   float64\n",
            "dtypes: float64(7)\n",
            "memory usage: 64.0 KB\n"
          ]
        }
      ]
    },
    {
      "cell_type": "code",
      "metadata": {
        "id": "mHrbkMXDoJDQ"
      },
      "source": [
        "import tensorflow as tf"
      ],
      "execution_count": null,
      "outputs": []
    },
    {
      "cell_type": "code",
      "metadata": {
        "colab": {
          "base_uri": "https://localhost:8080/"
        },
        "id": "VL-ofP1_oJDb",
        "outputId": "13db8980-bec4-4d3d-b667-ce7911071272"
      },
      "source": [
        "X_train_tensor = tf.convert_to_tensor(X_train_ready.values)\n",
        "X_train_tensor"
      ],
      "execution_count": null,
      "outputs": [
        {
          "output_type": "execute_result",
          "data": {
            "text/plain": [
              "<tf.Tensor: shape=(1168, 7), dtype=float64, numpy=\n",
              "array([[0.        , 0.28333333, 0.        , ..., 0.58653846, 0.54545455,\n",
              "        0.75      ],\n",
              "       [0.23529412, 0.85      , 0.5       , ..., 0.91346154, 0.36363636,\n",
              "        0.25      ],\n",
              "       [0.        , 0.96666667, 0.5       , ..., 0.625     , 0.27272727,\n",
              "        1.        ],\n",
              "       ...,\n",
              "       [0.17647059, 0.53333333, 0.5       , ..., 0.32692308, 0.54545455,\n",
              "        0.5       ],\n",
              "       [0.82352941, 0.91666667, 0.        , ..., 0.95192308, 0.27272727,\n",
              "        0.        ],\n",
              "       [0.        , 0.41666667, 0.5       , ..., 0.66346154, 1.        ,\n",
              "        0.        ]])>"
            ]
          },
          "metadata": {},
          "execution_count": 28
        }
      ]
    },
    {
      "cell_type": "code",
      "metadata": {
        "colab": {
          "base_uri": "https://localhost:8080/"
        },
        "id": "YlrhDlp3oJDc",
        "outputId": "87d43266-52c8-467b-cf91-1821bfb7e54a"
      },
      "source": [
        "y_train_tensor = tf.convert_to_tensor(y_train)\n",
        "y_train_tensor"
      ],
      "execution_count": null,
      "outputs": [
        {
          "output_type": "execute_result",
          "data": {
            "text/plain": [
              "<tf.Tensor: shape=(1168,), dtype=int64, numpy=array([100000, 226000, 149900, ..., 145000, 144152, 280000])>"
            ]
          },
          "metadata": {},
          "execution_count": 29
        }
      ]
    },
    {
      "cell_type": "markdown",
      "metadata": {
        "id": "Iod_asnVoJDc"
      },
      "source": [
        "## Linear Regression\n",
        "\n",
        "https://www.tensorflow.org/tutorials/keras/regression\n",
        "\n",
        "First we define the model as a single-layer neural network:"
      ]
    },
    {
      "cell_type": "code",
      "metadata": {
        "id": "4Jt3ZoRDoJDd"
      },
      "source": [
        "lr_model = tf.keras.Sequential([\n",
        "    tf.keras.layers.Dense(units=1)\n",
        "])"
      ],
      "execution_count": null,
      "outputs": []
    },
    {
      "cell_type": "markdown",
      "metadata": {
        "id": "amfh9OpaoJDd"
      },
      "source": [
        "### Compile the model\n",
        "\n",
        "Here we choose:\n",
        "\n",
        "- The optimizer: which will define how we approach the right parameters for the model\n",
        "- The loss function: whcih quantifies the error"
      ]
    },
    {
      "cell_type": "code",
      "metadata": {
        "id": "0oNCoYxxoJDd"
      },
      "source": [
        "lr_model.compile(\n",
        "    optimizer=tf.optimizers.Adam(learning_rate=0.5),\n",
        "    loss='mean_absolute_error')"
      ],
      "execution_count": null,
      "outputs": []
    },
    {
      "cell_type": "code",
      "metadata": {
        "colab": {
          "base_uri": "https://localhost:8080/"
        },
        "id": "m1UMfoz6oJDe",
        "outputId": "e75c4821-4682-47af-c6f8-929661e3ebfa"
      },
      "source": [
        "# these predictions make no sense, because the parameters have not been tuned yet\n",
        "# we get random predictions\n",
        "\n",
        "lr_model.predict(X_train_tensor[:10])\n"
      ],
      "execution_count": null,
      "outputs": [
        {
          "output_type": "execute_result",
          "data": {
            "text/plain": [
              "array([[0.9310106 ],\n",
              "       [0.5459139 ],\n",
              "       [0.8125245 ],\n",
              "       [0.36674076],\n",
              "       [0.2307384 ],\n",
              "       [0.88049316],\n",
              "       [0.44826   ],\n",
              "       [0.9273515 ],\n",
              "       [0.6032017 ],\n",
              "       [0.44337416]], dtype=float32)"
            ]
          },
          "metadata": {},
          "execution_count": 32
        }
      ]
    },
    {
      "cell_type": "code",
      "metadata": {
        "colab": {
          "base_uri": "https://localhost:8080/"
        },
        "id": "bFGOzdkPoJDj",
        "outputId": "c9652df8-e818-4560-9c62-873dc857bed1"
      },
      "source": [
        "%%time \n",
        "# %%time gives perfomancetime =>\n",
        "# CPU times: user 2min 39s, sys: 10.4 s, total: 2min 49s\n",
        "# Wall time: 2min 44s\n",
        "history = lr_model.fit(\n",
        "    X_train_tensor, y_train_tensor,\n",
        "    epochs=3000, # define number of iterations\n",
        "    verbose=0, # suppress logging\n",
        "    validation_split = 0.2)  # Calculate validation results on 20% of the training data"
      ],
      "execution_count": null,
      "outputs": [
        {
          "output_type": "stream",
          "name": "stdout",
          "text": [
            "CPU times: user 2min 39s, sys: 10.4 s, total: 2min 49s\n",
            "Wall time: 2min 44s\n"
          ]
        }
      ]
    },
    {
      "cell_type": "code",
      "metadata": {
        "colab": {
          "base_uri": "https://localhost:8080/",
          "height": 279
        },
        "id": "HzOgcLMmoJDm",
        "outputId": "c5da6ed9-2648-4ab3-d310-40128ac2352c"
      },
      "source": [
        "import matplotlib.pyplot as plt\n",
        "\n",
        "def plot_loss(history):\n",
        "  plt.plot(history.history['loss'], label='loss')\n",
        "  plt.plot(history.history['val_loss'], label='val_loss')\n",
        "  plt.xlabel('Epoch')\n",
        "  plt.ylabel('Error [House Price]')\n",
        "  plt.legend()\n",
        "  plt.grid(True)\n",
        "\n",
        "plot_loss(history)\n"
      ],
      "execution_count": null,
      "outputs": [
        {
          "output_type": "display_data",
          "data": {
            "image/png": "[encoded data removed]",
            "text/plain": [
              "<Figure size 432x288 with 1 Axes>"
            ]
          },
          "metadata": {
            "needs_background": "light"
          }
        }
      ]
    },
    {
      "cell_type": "markdown",
      "metadata": {
        "id": "xc5ujMHMoJDn"
      },
      "source": [
        "### Performance on the test set"
      ]
    },
    {
      "cell_type": "code",
      "metadata": {
        "colab": {
          "base_uri": "https://localhost:8080/"
        },
        "id": "RW6RuPaMoJDn",
        "outputId": "6ff80988-8eef-424c-a6e4-516689e5cdcb"
      },
      "source": [
        "from sklearn.metrics import mean_absolute_error\n",
        "\n",
        "tf_lr_model_predictions = lr_model.predict(X_test_ready)\n",
        "mean_absolute_error(y_test, tf_lr_model_predictions)"
      ],
      "execution_count": null,
      "outputs": [
        {
          "output_type": "execute_result",
          "data": {
            "text/plain": [
              "48950.90237050514"
            ]
          },
          "metadata": {},
          "execution_count": 35
        }
      ]
    },
    {
      "cell_type": "code",
      "metadata": {
        "id": "yCYgLIstoJDo"
      },
      "source": [
        "test_results['linear_model'] = lr_model.evaluate(\n",
        "    X_test_ready,\n",
        "    np.array(y_test), verbose=0)"
      ],
      "execution_count": null,
      "outputs": []
    },
    {
      "cell_type": "code",
      "metadata": {
        "colab": {
          "base_uri": "https://localhost:8080/"
        },
        "id": "v5mMw2pwoJDo",
        "outputId": "36e10e9f-4670-4e68-df3f-237bbe8b3e56"
      },
      "source": [
        "test_results"
      ],
      "execution_count": null,
      "outputs": [
        {
          "output_type": "execute_result",
          "data": {
            "text/plain": [
              "{'knn': 41370.802226027394, 'linear_model': 48950.90234375}"
            ]
          },
          "metadata": {},
          "execution_count": 37
        }
      ]
    },
    {
      "cell_type": "markdown",
      "metadata": {
        "id": "WrHZiFkSoJDo"
      },
      "source": [
        "## 2nd NN model\n",
        "\n",
        "A \"deep model\""
      ]
    },
    {
      "cell_type": "code",
      "metadata": {
        "id": "caTUqE-3oJDp"
      },
      "source": [
        "deep_model = tf.keras.Sequential([\n",
        "    tf.keras.layers.Dense(units=24, activation=\"relu\"),\n",
        "    tf.keras.layers.Dense(units=24, activation=\"relu\"),\n",
        "    tf.keras.layers.Dense(units=1)\n",
        "])"
      ],
      "execution_count": null,
      "outputs": []
    },
    {
      "cell_type": "code",
      "metadata": {
        "id": "oyzDmrHmoJDp"
      },
      "source": [
        "deep_model.compile(\n",
        "    optimizer=tf.optimizers.Adam(learning_rate=0.1),\n",
        "    loss='mean_absolute_error')"
      ],
      "execution_count": null,
      "outputs": []
    },
    {
      "cell_type": "code",
      "metadata": {
        "id": "lzxlBF9foJDp"
      },
      "source": [
        "history = deep_model.fit(\n",
        "    X_train_tensor, y_train_tensor,\n",
        "    epochs=50,\n",
        "    # suppress logging\n",
        "    verbose=0,\n",
        "    # Calculate validation results on 20% of the training data\n",
        "    validation_split = 0.2)"
      ],
      "execution_count": null,
      "outputs": []
    },
    {
      "cell_type": "code",
      "metadata": {
        "colab": {
          "base_uri": "https://localhost:8080/",
          "height": 283
        },
        "id": "FgtC7uOmoJDr",
        "outputId": "5dcabeae-3818-40c4-f118-9d19c090dbbc"
      },
      "source": [
        "plot_loss(history)\n"
      ],
      "execution_count": null,
      "outputs": [
        {
          "output_type": "display_data",
          "data": {
            "image/png": "[encoded data removed]",
            "text/plain": [
              "<Figure size 432x288 with 1 Axes>"
            ]
          },
          "metadata": {
            "needs_background": "light"
          }
        }
      ]
    },
    {
      "cell_type": "code",
      "metadata": {
        "id": "NmgPxFpfoJDr"
      },
      "source": [
        "test_results['deep_model'] = deep_model.evaluate(\n",
        "    X_test_ready,\n",
        "    np.array(y_test), verbose=0)"
      ],
      "execution_count": null,
      "outputs": []
    },
    {
      "cell_type": "code",
      "metadata": {
        "colab": {
          "base_uri": "https://localhost:8080/"
        },
        "id": "X0Nzxk-goJDs",
        "outputId": "024e3fd3-8287-4fa5-87b5-c4156d3c1636"
      },
      "source": [
        "test_results"
      ],
      "execution_count": null,
      "outputs": [
        {
          "output_type": "execute_result",
          "data": {
            "text/plain": [
              "{'deep_model': 41775.0078125,\n",
              " 'knn': 41370.802226027394,\n",
              " 'linear_model': 48950.90234375}"
            ]
          },
          "metadata": {},
          "execution_count": 43
        }
      ]
    },
    {
      "cell_type": "markdown",
      "metadata": {
        "id": "UNmarZjyoJDs"
      },
      "source": [
        "# 3rd iteration\n",
        "\n",
        "A \"deeper\" model"
      ]
    },
    {
      "cell_type": "code",
      "metadata": {
        "id": "R-H6etCLoJDs"
      },
      "source": [
        "def model(X, y, learn_rate, n_epochs):\n",
        "    model = tf.keras.Sequential([\n",
        "        tf.keras.layers.Dense(units=64, activation=\"relu\"),\n",
        "        tf.keras.layers.Dense(units=64, activation=\"relu\"),\n",
        "        tf.keras.layers.Dense(units=64, activation=\"relu\"),\n",
        "        tf.keras.layers.Dense(units=1)\n",
        "    ])\n",
        "\n",
        "    model.compile(\n",
        "        optimizer=tf.optimizers.Adam(learning_rate=learn_rate),\n",
        "        loss='mse',\n",
        "        metrics=[\"mean_absolute_error\"]\n",
        "    )\n",
        "\n",
        "    history = model.fit(\n",
        "        X, y,\n",
        "        epochs=n_epochs,\n",
        "        verbose=0,\n",
        "        validation_split = 0.2)\n",
        "    return model, history"
      ],
      "execution_count": null,
      "outputs": []
    },
    {
      "cell_type": "code",
      "metadata": {
        "id": "dbPd8LtXoJDt"
      },
      "source": [
        "deeper_model, history = model(X_train_tensor, y_train_tensor, 0.001, 200)"
      ],
      "execution_count": null,
      "outputs": []
    },
    {
      "cell_type": "code",
      "metadata": {
        "colab": {
          "base_uri": "https://localhost:8080/",
          "height": 290
        },
        "id": "qYR3KSUPoJDu",
        "outputId": "9490015e-82bd-44f9-925e-701f21ecee6d"
      },
      "source": [
        "plot_loss(history)"
      ],
      "execution_count": null,
      "outputs": [
        {
          "output_type": "display_data",
          "data": {
            "image/png": "[encoded data removed]",
            "text/plain": [
              "<Figure size 432x288 with 1 Axes>"
            ]
          },
          "metadata": {
            "needs_background": "light"
          }
        }
      ]
    },
    {
      "cell_type": "code",
      "metadata": {
        "colab": {
          "base_uri": "https://localhost:8080/"
        },
        "id": "kONHYkNToJDv",
        "outputId": "25e9aa1b-93a1-44bc-915f-a4e02902addb"
      },
      "source": [
        "deeper_model.summary()"
      ],
      "execution_count": null,
      "outputs": [
        {
          "output_type": "stream",
          "name": "stdout",
          "text": [
            "Model: \"sequential_3\"\n",
            "_________________________________________________________________\n",
            "Layer (type)                 Output Shape              Param #   \n",
            "=================================================================\n",
            "dense_7 (Dense)              (None, 64)                512       \n",
            "_________________________________________________________________\n",
            "dense_8 (Dense)              (None, 64)                4160      \n",
            "_________________________________________________________________\n",
            "dense_9 (Dense)              (None, 64)                4160      \n",
            "_________________________________________________________________\n",
            "dense_10 (Dense)             (None, 1)                 65        \n",
            "=================================================================\n",
            "Total params: 8,897\n",
            "Trainable params: 8,897\n",
            "Non-trainable params: 0\n",
            "_________________________________________________________________\n"
          ]
        }
      ]
    },
    {
      "cell_type": "code",
      "metadata": {
        "colab": {
          "base_uri": "https://localhost:8080/"
        },
        "id": "4IZsrN7XoJDw",
        "outputId": "81e1137f-d4f3-42e1-968a-19e60ba6fb23"
      },
      "source": [
        "test_results['deeper_model'] = deeper_model.evaluate(\n",
        "    X_test_ready,\n",
        "    np.array(y_test), verbose=0)[1]\n",
        "\n",
        "test_results"
      ],
      "execution_count": null,
      "outputs": [
        {
          "output_type": "execute_result",
          "data": {
            "text/plain": [
              "{'deep_model': 41775.0078125,\n",
              " 'deeper_model': 42474.375,\n",
              " 'knn': 41370.802226027394,\n",
              " 'linear_model': 48950.90234375}"
            ]
          },
          "metadata": {},
          "execution_count": 54
        }
      ]
    },
    {
      "cell_type": "code",
      "metadata": {
        "id": "N6Dmk9g8oJDw"
      },
      "source": [
        ""
      ],
      "execution_count": null,
      "outputs": []
    }
  ]
}